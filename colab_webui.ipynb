{
  "nbformat": 4,
  "nbformat_minor": 0,
  "metadata": {
    "colab": {
      "provenance": [],
      "include_colab_link": true
    },
    "kernelspec": {
      "name": "python3",
      "display_name": "Python 3"
    },
    "accelerator": "GPU"
  },
  "cells": [
    {
      "cell_type": "markdown",
      "metadata": {
        "id": "view-in-github",
        "colab_type": "text"
      },
      "source": [
        "<a href=\"https://colab.research.google.com/github/ZhanglinX233/mc_server/blob/main/colab_webui.ipynb\" target=\"_parent\"><img src=\"https://colab.research.google.com/assets/colab-badge.svg\" alt=\"Open In Colab\"/></a>"
      ]
    },
    {
      "cell_type": "markdown",
      "source": [
        "环境配置 environment"
      ],
      "metadata": {
        "id": "_o6a8GS2lWQM"
      }
    },
    {
      "cell_type": "code",
      "metadata": {
        "id": "e9b7iFV3dm1f"
      },
      "source": [
        "!pip install -q condacolab\n",
        "# Setting up condacolab and installing packages\n",
        "import condacolab\n",
        "condacolab.install_from_url(\"https://repo.anaconda.com/miniconda/Miniconda3-py39_23.11.0-2-Linux-x86_64.sh\")\n",
        "%cd -q /content\n",
        "!git clone https://github.com/RVC-Boss/GPT-SoVITS\n",
        "!conda install -y -q -c pytorch -c nvidia cudatoolkit\n",
        "%cd -q /content/GPT-SoVITS\n",
        "!conda install -y -q -c conda-forge gcc gxx ffmpeg cmake -c pytorch -c nvidia\n",
        "!/usr/local/bin/pip install -r requirements.txt"
      ],
      "execution_count": null,
      "outputs": []
    },
    {
      "cell_type": "code",
      "source": [
        "# @title Download pretrained models 下载预训练模型\n",
        "!mkdir -p /content/GPT-SoVITS/GPT_SoVITS/pretrained_models\n",
        "!mkdir -p /content/GPT-SoVITS/tools/damo_asr/models\n",
        "!mkdir -p /content/GPT-SoVITS/tools/uvr5\n",
        "%cd /content/GPT-SoVITS/GPT_SoVITS/pretrained_models\n",
        "!git clone https://huggingface.co/lj1995/GPT-SoVITS\n",
        "%cd /content/GPT-SoVITS/tools/damo_asr/models\n",
        "!git clone https://www.modelscope.cn/damo/speech_paraformer-large_asr_nat-zh-cn-16k-common-vocab8404-pytorch.git\n",
        "!git clone https://www.modelscope.cn/damo/speech_fsmn_vad_zh-cn-16k-common-pytorch.git\n",
        "!git clone https://www.modelscope.cn/damo/punc_ct-transformer_zh-cn-common-vocab272727-pytorch.git\n",
        "# @title UVR5 pretrains 安装uvr5模型\n",
        "%cd /content/GPT-SoVITS/tools/uvr5\n",
        "%rm -r uvr5_weights\n",
        "!git clone https://huggingface.co/Delik/uvr5_weights\n",
        "!git config core.sparseCheckout true\n",
        "!mv /content/GPT-SoVITS/GPT_SoVITS/pretrained_models/GPT-SoVITS/* /content/GPT-SoVITS/GPT_SoVITS/pretrained_models/"
      ],
      "metadata": {
        "id": "0NgxXg5sjv7z"
      },
      "execution_count": null,
      "outputs": []
    },
    {
      "cell_type": "code",
      "source": [
        "# @title launch WebUI 启动WebUI\n",
        "!/usr/local/bin/pip install ipykernel\n",
        "!sed -i '10s/False/True/' /content/GPT-SoVITS/config.py\n",
        "%cd /content/GPT-SoVITS/\n",
        "!/usr/local/bin/python  webui.py"
      ],
      "metadata": {
        "id": "4oRGUzkrk8C7"
      },
      "execution_count": null,
      "outputs": []
    },
    {
      "cell_type": "code",
      "source": [
        "!/usr/local/bin/pip install parsel"
      ],
      "metadata": {
        "colab": {
          "base_uri": "https://localhost:8080/"
        },
        "id": "GFUzgn62WoIx",
        "outputId": "c709178e-d584-4ea6-fb48-b9b2b1458d63"
      },
      "execution_count": 8,
      "outputs": [
        {
          "output_type": "stream",
          "name": "stdout",
          "text": [
            "Requirement already satisfied: parsel in /usr/local/lib/python3.9/site-packages (1.9.1)\n",
            "Requirement already satisfied: cssselect>=1.2.0 in /usr/local/lib/python3.9/site-packages (from parsel) (1.2.0)\n",
            "Requirement already satisfied: jmespath in /usr/local/lib/python3.9/site-packages (from parsel) (0.10.0)\n",
            "Requirement already satisfied: lxml in /usr/local/lib/python3.9/site-packages (from parsel) (5.3.0)\n",
            "Requirement already satisfied: packaging in /usr/local/lib/python3.9/site-packages (from parsel) (23.1)\n",
            "Requirement already satisfied: w3lib>=1.19.0 in /usr/local/lib/python3.9/site-packages (from parsel) (2.2.1)\n"
          ]
        }
      ]
    },
    {
      "cell_type": "code",
      "source": [
        "from json import dump\n",
        "import requests\n",
        "from parsel import Selector\n",
        "from pymongo import MongoClient\n",
        "from bson.objectid import ObjectId\n",
        "import os\n",
        "\n",
        "cookies = {\n",
        "    'gamecenter_wiki__session': '8er0alovkgjsq6u7ssnf80vut1q66s1c',\n",
        "    'gamecenter_wiki_UserID': '7078378',\n",
        "    'gamecenter_wiki_UserName': '514671750',\n",
        "    'gamecenter_wiki_UserGroups': 'bilibili',\n",
        "    'DedeUserID': '514671750',\n",
        "    'DedeUserID__ckMd5': '9b4aa2e41166602b',\n",
        "    'SESSDATA': 'f8f68a41%2C1751077808%2C9882f%2Ac2CjCvhgwn1Gb34vUxwFWuQH7tbeAGyDQBjVcaO8fka7J4Td78kK9CkiPiwu7rhe5e7kESVklkMVNMZGg3aDl6bDFFVVhaU3RQdHVyNGFOeXBsS0JsbHJKMjB2dmJreHVPc3c2bi1hNmg4NzJ0VEp4eTBFbTlXZ3FZU1NxaDY4VXdVaFhZQ2V3QWN3IIEC',\n",
        "    'bili_jct': 'd2ca971ca10a2403ab634c01f95ae328',\n",
        "    'sid': '66z88uox',\n",
        "    'b_lsid': '3A9A3936_1943FC37C14',\n",
        "    'buvid4': '73735C57-D580-5477-FE3D-1D1673B3661090519-024101710-BtAsIXQgcHCLJyLXMiqnDg%3D%3D',\n",
        "    'b_nut': '1736236563',\n",
        "    'buvid3': 'BA9B2FC8-0BD1-B300-6E80-DCC71B2345D363622infoc',\n",
        "    'buvid_fp': '722f57d252ea7e2312d3b8085aecb27a',\n",
        "    'Hm_lvt_cb50e488eca598646f26b3bf09b83ada': '1736236564',\n",
        "    'HMACCOUNT': 'A6B4B6C2799017B6',\n",
        "    'bsource': 'search_google',\n",
        "    'Hm_lpvt_cb50e488eca598646f26b3bf09b83ada': '1736236582',\n",
        "}\n",
        "\n",
        "headers = {\n",
        "    'Accept': 'text/html,application/xhtml+xml,application/xml;q=0.9,image/avif,image/webp,image/apng,*/*;q=0.8,application/signed-exchange;v=b3;q=0.7',\n",
        "    'Accept-Language': 'zh-CN,zh;q=0.9,en-US;q=0.8,en;q=0.7',\n",
        "    'Cache-Control': 'no-cache',\n",
        "    'Connection': 'keep-alive',\n",
        "    # 'Cookie': 'gamecenter_wiki__session=8er0alovkgjsq6u7ssnf80vut1q66s1c; gamecenter_wiki_UserID=7078378; gamecenter_wiki_UserName=514671750; gamecenter_wiki_UserGroups=bilibili; DedeUserID=514671750; DedeUserID__ckMd5=9b4aa2e41166602b; SESSDATA=f8f68a41%2C1751077808%2C9882f%2Ac2CjCvhgwn1Gb34vUxwFWuQH7tbeAGyDQBjVcaO8fka7J4Td78kK9CkiPiwu7rhe5e7kESVklkMVNMZGg3aDl6bDFFVVhaU3RQdHVyNGFOeXBsS0JsbHJKMjB2dmJreHVPc3c2bi1hNmg4NzJ0VEp4eTBFbTlXZ3FZU1NxaDY4VXdVaFhZQ2V3QWN3IIEC; bili_jct=d2ca971ca10a2403ab634c01f95ae328; sid=66z88uox; b_lsid=3A9A3936_1943FC37C14; buvid4=73735C57-D580-5477-FE3D-1D1673B3661090519-024101710-BtAsIXQgcHCLJyLXMiqnDg%3D%3D; b_nut=1736236563; buvid3=BA9B2FC8-0BD1-B300-6E80-DCC71B2345D363622infoc; buvid_fp=722f57d252ea7e2312d3b8085aecb27a; Hm_lvt_cb50e488eca598646f26b3bf09b83ada=1736236564; HMACCOUNT=A6B4B6C2799017B6; bsource=search_google; Hm_lpvt_cb50e488eca598646f26b3bf09b83ada=1736236582',\n",
        "    'Pragma': 'no-cache',\n",
        "    'Referer': 'https://www.google.com/',\n",
        "    'Sec-Fetch-Dest': 'document',\n",
        "    'Sec-Fetch-Mode': 'navigate',\n",
        "    'Sec-Fetch-Site': 'cross-site',\n",
        "    'Sec-Fetch-User': '?1',\n",
        "    'Upgrade-Insecure-Requests': '1',\n",
        "    'User-Agent': 'Mozilla/5.0 (Macintosh; Intel Mac OS X 10_15_7) AppleWebKit/537.36 (KHTML, like Gecko) Chrome/131.0.0.0 Safari/537.36',\n",
        "    'sec-ch-ua': '\"Google Chrome\";v=\"131\", \"Chromium\";v=\"131\", \"Not_A Brand\";v=\"24\"',\n",
        "    'sec-ch-ua-mobile': '?0',\n",
        "    'sec-ch-ua-platform': '\"macOS\"',\n",
        "}\n",
        "\n",
        "def get_url():\n",
        "    params = {\n",
        "        'biliLogin': '1',\n",
        "    }\n",
        "\n",
        "    response = requests.get(\n",
        "        'https://wiki.biligame.com/ys/%E5%88%86%E7%B1%BB:%E8%A7%92%E8%89%B2%E8%AF%AD%E9%9F%B3',\n",
        "        params=params,\n",
        "        cookies=cookies,\n",
        "        headers=headers,\n",
        "    )\n",
        "\n",
        "    if response.status_code == 200:\n",
        "        ele = Selector(response.text)\n",
        "        names = ele.css('div.mw-category ul>li>a::attr(title)').getall()\n",
        "        urls = ele.css('div.mw-category ul>li>a::attr(href)').getall()\n",
        "        datas = [{'name': name, 'url': url, 'status': None} for name, url in zip(names, urls)]\n",
        "\n",
        "        for name, url in datas:\n",
        "            print(url)\n",
        "            response = requests.get(\n",
        "                url='https://wiki.biligame.com' + url,\n",
        "                cookies=cookies,\n",
        "                headers=headers,\n",
        "            )\n",
        "            data_dict = {'zh': [], 'jp': [], 'en': [], 'kr': [], 'status': 'yes'}\n",
        "            if response.status_code == 200:\n",
        "                print('请求成功')\n",
        "                ele = Selector(response.text)\n",
        "                tbodys = ele.css('div.visible-xs>table.wikitable>tbody')\n",
        "                for body in tbodys[1:]:\n",
        "                    lines = body.css('tr:last-child div::text').getall()\n",
        "                    cvs = body.css('tr div.bikit-audio::attr(data-src)').getall()\n",
        "                    langs = ['zh', 'jp', 'en', 'kr']\n",
        "                    for line, cv, lang in zip(lines, cvs, langs):\n",
        "                        data_dict[lang].append({'line': line, 'cv': cv})\n",
        "                for l in ['zh', 'jp', 'en', 'kr']:\n",
        "                    if not os.path.exists(f'{name}'):\n",
        "                        os.mkdir(f'{name}')\n",
        "                    with open(f'{name}/{l}.json', 'w', encoding='utf-8')as file:\n",
        "                        dump(file, data_dict[l])\n",
        "\n",
        "\n",
        "if __name__ == '__main__':\n",
        "    get_url()\n",
        ""
      ],
      "metadata": {
        "id": "o-amjVM-XWq0"
      },
      "execution_count": null,
      "outputs": []
    }
  ]
}